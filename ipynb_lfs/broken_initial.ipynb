version https://git-lfs.github.com/spec/v1
oid sha256:6f9970820fe243b8a5b9618c80c55febd6c584383d55d3a0cbbce17ad9e23276
size 241862

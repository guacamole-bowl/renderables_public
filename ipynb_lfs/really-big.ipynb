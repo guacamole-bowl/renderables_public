version https://git-lfs.github.com/spec/v1
oid sha256:2154164848221a0b1a5514c4d2559257ee95995b2f8d5f3e3f616a2ce1e3ed89
size 63599677

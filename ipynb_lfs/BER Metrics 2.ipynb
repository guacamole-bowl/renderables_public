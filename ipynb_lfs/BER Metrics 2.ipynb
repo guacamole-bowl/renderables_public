version https://git-lfs.github.com/spec/v1
oid sha256:e77bf89f551ba5fc81cc468b71ef4fc375478d6dcd30b8de2dc1adf8abda4c0e
size 6360152

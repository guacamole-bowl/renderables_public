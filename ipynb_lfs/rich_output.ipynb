version https://git-lfs.github.com/spec/v1
oid sha256:8c1c03e9abf7f683731d69145fe766b765cfb91219e5d757ba2c9fa61a220205
size 300702

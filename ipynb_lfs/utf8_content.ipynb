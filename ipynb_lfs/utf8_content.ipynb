version https://git-lfs.github.com/spec/v1
oid sha256:5664e46eb5027bdde3467528cf664483004950b2093d7e0a7d66fc77af1d1e9c
size 19050

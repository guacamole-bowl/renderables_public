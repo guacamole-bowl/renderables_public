version https://git-lfs.github.com/spec/v1
oid sha256:1234e7b3a05eefd639341f1d1e0a1e0bcd3d06a2d629295d7831652c165faef7
size 403269

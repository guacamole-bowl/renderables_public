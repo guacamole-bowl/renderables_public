version https://git-lfs.github.com/spec/v1
oid sha256:5f227453c611ed57b208fc87986e79786265dd631b91b5db64d0e9f3046143f6
size 24

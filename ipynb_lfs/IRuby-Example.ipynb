version https://git-lfs.github.com/spec/v1
oid sha256:407ea2c95fdbf875cc59a595314b860870db6d2557b1332365d55fb02b99b26a
size 502897

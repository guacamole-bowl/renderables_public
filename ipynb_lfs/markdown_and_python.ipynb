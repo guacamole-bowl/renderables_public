version https://git-lfs.github.com/spec/v1
oid sha256:63cf20f18aaf4d970431a339f1a2d1bfe923ccdc988d71b26a607ef0138cc350
size 923

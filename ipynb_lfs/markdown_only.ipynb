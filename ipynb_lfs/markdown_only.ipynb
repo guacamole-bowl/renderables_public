version https://git-lfs.github.com/spec/v1
oid sha256:fb229458ed6b9dcdf3e98cb90b0685c50e1c92c70831bf2cda51400f26a8aab1
size 461

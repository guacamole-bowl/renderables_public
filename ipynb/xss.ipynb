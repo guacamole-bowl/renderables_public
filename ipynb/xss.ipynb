{
 "cells": [
  {
   "cell_type": "raw",
   "id": "372c2bf1",
   "metadata": {},
   "source": [
    "<script>console.log('raw cell')</script>"
   ]
  },
  {
   "cell_type": "markdown",
   "id": "103f8223",
   "metadata": {},
   "source": [
    "$\\href{java\n",
    "script:alert(1)}{Click Me}$"
   ]
  },
  {
   "cell_type": "code",
   "execution_count": null,
   "id": "b72e53fa",
   "metadata": {},
   "outputs": [
    {
     "data": {
      "image/svg+xml": []
     },
     "execution_count": null,
     "metadata": {},
     "output_type": "execute_result"
    }
   ],
   "source": []
  },
  {
   "cell_type": "code",
   "execution_count": null,
   "id": "d72e53fa",
   "metadata": {},
   "outputs": [
    {
     "data": {
      "image/png": ""
     },
     "execution_count": null,
     "metadata": {
      "filenames": {
       "image/png": "\"><script>console.log(\"output.metadata.filenames.image/png injection\")</script>"
      }
     },
     "output_type": "execute_result"
    }
   ],
   "source": []
  },
  {
   "cell_type": "code",
   "execution_count": null,
   "id": "e72e53fa",
   "metadata": {},
   "outputs": [
    {
     "data": {
      "image/png": "[encoded data removed]"
     },
     "execution_count": null,
     "metadata": {},
     "output_type": "execute_result"
    }
   ],
   "source": []
  },
  {
   "cell_type": "code",
   "execution_count": null,
   "id": "f72e53fa",
   "metadata": {},
   "outputs": [
    {
     "data": {
      "image/png": "YWJjZA=="
     },
     "execution_count": null,
     "metadata": {
      "width": "><script>console.log(\"output.metadata.width png injection\")</script>"
     },
     "output_type": "execute_result"
    }
   ],
   "source": []
  },
  {
   "cell_type": "code",
   "execution_count": null,
   "id": "d72e53aa",
   "metadata": {},
   "outputs": [
    {
     "data": {
      "image/jpeg": ""
     },
     "execution_count": null,
     "metadata": {
      "filenames": {
       "image/jpeg": "\"><script>console.log(\"output.metadata.filenames.image/jpeg injection\")</script>"
      }
     },
     "output_type": "execute_result"
    }
   ],
   "source": []
  },
  {
   "cell_type": "code",
   "execution_count": null,
   "id": "e72e53aa",
   "metadata": {},
   "outputs": [
    {
     "data": {
      "image/jpeg": "[encoded data removed]"
     },
     "execution_count": null,
     "metadata": {},
     "output_type": "execute_result"
    }
   ],
   "source": []
  },
  {
   "cell_type": "code",
   "execution_count": null,
   "id": "f72e53aa",
   "metadata": {},
   "outputs": [
    {
     "data": {
      "image/jpeg": "YWJjZA=="
     },
     "execution_count": null,
     "metadata": {
      "width": "><script>console.log(\"output.metadata.width jpeg injection\")</script>"
     },
     "output_type": "execute_result"
    }
   ],
   "source": []
  },
  {
   "cell_type": "code",
   "execution_count": null,
   "id": "c72e53fa",
   "metadata": {},
   "outputs": [
    {
     "data": {
      "image/svg+xml": [
       "<script>console.log(\"image/svg+xml output\")</script>"
      ]
     },
     "execution_count": null,
     "metadata": {},
     "output_type": "execute_result"
    }
   ],
   "source": []
  },
  {
   "cell_type": "code",
   "execution_count": null,
   "id": "b72e53fb",
   "metadata": {},
   "outputs": [
    {
     "data": {
      "text/html": [
       "<script>console.log(\"text/html output\")</script>"
      ]
     },
     "execution_count": null,
     "metadata": {},
     "output_type": "execute_result"
    }
   ],
   "source": []
  },
  {
   "cell_type": "code",
   "execution_count": null,
   "id": "b72f53fb",
   "metadata": {},
   "outputs": [
    {
     "data": {
      "text/latex": [
       "<script>console.log(\"text/latex output\")</script>"
      ]
     },
     "execution_count": null,
     "metadata": {},
     "output_type": "execute_result"
    }
   ],
   "source": []
  },
  {
   "cell_type": "code",
   "execution_count": 1,
   "id": "c72f53fb",
   "metadata": {},
   "outputs": [
    {
     "name": "stdout",
     "output_type": "stream",
     "text": [
      "hello\n"
     ]
    }
   ],
   "source": [
    "print(\"hello\")"
   ]
  },
  {
   "cell_type": "code",
   "execution_count": null,
   "id": "b72e53fc",
   "metadata": {},
   "outputs": [],
   "source": []
  },
  {
   "cell_type": "code",
   "execution_count": null,
   "id": "b72e53fd",
   "metadata": {},
   "outputs": [],
   "source": []
  },
  {
   "cell_type": "markdown",
   "id": "2d42de4a",
   "metadata": {},
   "source": [
    "<script>console.log(\"markdown cell\")</script>"
   ]
  },
  {
   "cell_type": "code",
   "execution_count": null,
   "id": "727d1a5f",
   "metadata": {
    "tags": [
     "\"><script>console.log(\"metadata.tags injection\")</script><div \""
    ]
   },
   "outputs": [],
   "source": []
  }
 ],
 "metadata": {
  "kernelspec": {
   "display_name": "Python 3 (ipykernel)",
   "language": "python",
   "name": "python3"
  },
  "language_info": {
   "codemirror_mode": {
    "name": "ipython",
    "version": 3
   },
   "file_extension": ".py",
   "mimetype": "text/x-python",
   "name": "python",
   "nbconvert_exporter": "python",
   "pygments_lexer": "ipython3",
   "version": "3.9.16"
  },
  "title": "TITLE</title><script>console.log(\"metadata.title injection\")</script>",
  "widgets": {
   "application/vnd.jupyter.widget-state+json": {
    "foo": "pwntester</script><script>console.log('metadata.widgets injection');//"
   }
  }
 },
 "nbformat": 4,
 "nbformat_minor": 5
}
